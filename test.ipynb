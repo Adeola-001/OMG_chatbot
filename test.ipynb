{
 "cells": [
  {
   "cell_type": "code",
   "execution_count": 3,
   "id": "0c4db365-7ea7-4213-9801-48f53a727c91",
   "metadata": {},
   "outputs": [],
   "source": [
    "import pandas as pd\n",
    "from langchain_huggingface import HuggingFaceEndpoint\n",
    "from langchain_huggingface import HuggingFaceEmbeddings\n",
    "from langchain.vectorstores import FAISS\n",
    "from langchain_core.prompts import PromptTemplate\n",
    "from langchain.memory import ConversationBufferMemory\n",
    "from langchain.chains import ConversationalRetrievalChain\n",
    "import streamlit as st\n",
    "from langchain.document_loaders import TextLoader\n",
    "from langchain.text_splitter import RecursiveCharacterTextSplitter\n",
    "from langchain.chains import RetrievalQA\n",
    "from langchain_community.document_loaders import UnstructuredHTMLLoader"
   ]
  },
  {
   "cell_type": "code",
   "execution_count": 5,
   "id": "9dd0b8e2-180e-42a3-aa5c-6d2382e7664a",
   "metadata": {},
   "outputs": [
    {
     "name": "stdout",
     "output_type": "stream",
     "text": [
      "json==2.0.9\n",
      "numpy==1.26.4\n",
      "pandas==2.1.4\n",
      "torch==2.3.1+cpu\n",
      "ipywidgets==7.6.5\n",
      "xarray==2023.6.0\n",
      "pandas==2.1.4\n",
      "streamlit==1.30.0\n"
     ]
    }
   ],
   "source": [
    "print('\\n'.join(f'{m.__name__}=={m.__version__}' for m in globals().values() if getattr(m, '__version__', None)))"
   ]
  },
  {
   "cell_type": "code",
   "execution_count": 8,
   "id": "28497c8d-d56c-4fa5-9b87-3e6f50f74d85",
   "metadata": {},
   "outputs": [
    {
     "name": "stdout",
     "output_type": "stream",
     "text": [
      "Requirement already satisfied: pypdf in c:\\users\\deola\\anaconda3\\lib\\site-packages (4.2.0)\n",
      "Requirement already satisfied: tenacity in c:\\users\\deola\\anaconda3\\lib\\site-packages (8.2.2)\n"
     ]
    }
   ],
   "source": [
    "\n",
    "!pip install -qqq -U langchain-huggingface\n",
    "!pip install -qqq -U langchain\n",
    "!pip install -qqq -U langchain-community\n",
    "!pip install -qqq -U faiss-cpu\n",
    "!pip install pypdf\n",
    "!pip install tenacity"
   ]
  }
 ],
 "metadata": {
  "kernelspec": {
   "display_name": "Python 3 (ipykernel)",
   "language": "python",
   "name": "python3"
  },
  "language_info": {
   "codemirror_mode": {
    "name": "ipython",
    "version": 3
   },
   "file_extension": ".py",
   "mimetype": "text/x-python",
   "name": "python",
   "nbconvert_exporter": "python",
   "pygments_lexer": "ipython3",
   "version": "3.11.7"
  }
 },
 "nbformat": 4,
 "nbformat_minor": 5
}
